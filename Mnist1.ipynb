{
  "nbformat": 4,
  "nbformat_minor": 0,
  "metadata": {
    "colab": {
      "name": "Mnist1.ipynb",
      "provenance": [],
      "collapsed_sections": [],
      "authorship_tag": "ABX9TyNdh1SVqq1oWhrzpa5gsSaF",
      "include_colab_link": true
    },
    "kernelspec": {
      "name": "python3",
      "display_name": "Python 3"
    },
    "language_info": {
      "name": "python"
    },
    "accelerator": "GPU"
  },
  "cells": [
    {
      "cell_type": "markdown",
      "metadata": {
        "id": "view-in-github",
        "colab_type": "text"
      },
      "source": [
        "<a href=\"https://colab.research.google.com/github/Parsayarya/Mnist/blob/main/Mnist1.ipynb\" target=\"_parent\"><img src=\"https://colab.research.google.com/assets/colab-badge.svg\" alt=\"Open In Colab\"/></a>"
      ]
    },
    {
      "cell_type": "code",
      "execution_count": null,
      "metadata": {
        "id": "aF4gTWEU465h"
      },
      "outputs": [],
      "source": [
        "from keras.datasets import mnist\n",
        "\n",
        "(x_train, y_train), (x_test, y_test) = mnist.load_data()"
      ]
    },
    {
      "cell_type": "code",
      "source": [
        "from google.colab.patches import cv2_imshow"
      ],
      "metadata": {
        "id": "28JDRIIzPUlk"
      },
      "execution_count": null,
      "outputs": []
    },
    {
      "cell_type": "code",
      "source": [
        "print(x_train.shape,x_test.shape,y_train.shape,y_test.shape)"
      ],
      "metadata": {
        "colab": {
          "base_uri": "https://localhost:8080/"
        },
        "id": "FeUjyQSLC-BD",
        "outputId": "9299c1ff-e1a0-4d97-b80f-588ddc8de184"
      },
      "execution_count": null,
      "outputs": [
        {
          "output_type": "stream",
          "name": "stdout",
          "text": [
            "(60000, 28, 28) (10000, 28, 28) (60000,) (10000,)\n"
          ]
        }
      ]
    },
    {
      "cell_type": "code",
      "source": [
        "import numpy as np\n",
        "import tensorflow as tf\n",
        "import matplotlib.pyplot as plt\n",
        "from tensorflow.keras.layers import Input, Conv2D, Dense, Flatten, Dropout\n",
        "from tensorflow.keras.layers import GlobalMaxPooling2D, MaxPooling2D\n",
        "from tensorflow.keras.layers import BatchNormalization\n",
        "from tensorflow.keras.models import Model"
      ],
      "metadata": {
        "id": "qQs7deqzBqA7"
      },
      "execution_count": null,
      "outputs": []
    },
    {
      "cell_type": "code",
      "source": [
        "fig, ax = plt.subplots(2, 2)\n",
        "k = 0\n",
        " \n",
        "for i in range(2):\n",
        "    for j in range(2):\n",
        "        ax[i][j].imshow(x_train[k], aspect='auto')\n",
        "        k += 1\n",
        " \n",
        "plt.show()"
      ],
      "metadata": {
        "colab": {
          "base_uri": "https://localhost:8080/",
          "height": 268
        },
        "id": "5gdj3OsGDhV_",
        "outputId": "b6e8c172-a0ce-482d-caaf-8a85d30b4048"
      },
      "execution_count": null,
      "outputs": [
        {
          "output_type": "display_data",
          "data": {
            "image/png": "[encoded data removed]",
            "text/plain": [
              "<Figure size 432x288 with 4 Axes>"
            ]
          },
          "metadata": {
            "needs_background": "light"
          }
        }
      ]
    },
    {
      "cell_type": "code",
      "source": [
        "# number of classes\n",
        "K = len(set(y_train))\n",
        " \n",
        "# calculate total number of classes\n",
        "# for output layer\n",
        "print(\"number of classes:\", K)"
      ],
      "metadata": {
        "colab": {
          "base_uri": "https://localhost:8080/"
        },
        "id": "1BIOSofTDsN4",
        "outputId": "0cbaa5bb-fff2-44fd-9734-a862e56be84c"
      },
      "execution_count": null,
      "outputs": [
        {
          "output_type": "stream",
          "name": "stdout",
          "text": [
            "number of classes: 10\n"
          ]
        }
      ]
    },
    {
      "cell_type": "code",
      "source": [
        "x_train,x_test = x_train.reshape((x_train.shape[0], 28, 28, 1)),x_test.reshape((x_test.shape[0], 28, 28, 1))\n",
        "print(x_train.shape,x_test.shape,y_train.shape,y_test.shape)"
      ],
      "metadata": {
        "colab": {
          "base_uri": "https://localhost:8080/"
        },
        "id": "R1dOaZp2DyH2",
        "outputId": "6cf614b6-faf1-4e46-efee-bb82e7afe85e"
      },
      "execution_count": null,
      "outputs": [
        {
          "output_type": "stream",
          "name": "stdout",
          "text": [
            "(60000, 28, 28, 1) (10000, 28, 28, 1) (60000,) (10000,)\n"
          ]
        }
      ]
    },
    {
      "cell_type": "code",
      "source": [
        "x_train,x_test = x_train/255.0,x_test/255.0"
      ],
      "metadata": {
        "id": "T8dRhGbUH4Hu"
      },
      "execution_count": null,
      "outputs": []
    },
    {
      "cell_type": "code",
      "source": [
        "x_train[0].shape"
      ],
      "metadata": {
        "colab": {
          "base_uri": "https://localhost:8080/"
        },
        "id": "wPir5VdZLMgx",
        "outputId": "5a56c4d6-9d59-4e61-8058-c3b6a999095d"
      },
      "execution_count": null,
      "outputs": [
        {
          "output_type": "execute_result",
          "data": {
            "text/plain": [
              "(28, 28, 1)"
            ]
          },
          "metadata": {},
          "execution_count": 24
        }
      ]
    },
    {
      "cell_type": "code",
      "source": [
        "x_test.shape"
      ],
      "metadata": {
        "colab": {
          "base_uri": "https://localhost:8080/"
        },
        "id": "ZZGEkdvdL738",
        "outputId": "9a5a2f16-cff6-440e-8114-bce276f7ffb7"
      },
      "execution_count": null,
      "outputs": [
        {
          "output_type": "execute_result",
          "data": {
            "text/plain": [
              "(10000, 28, 28, 1)"
            ]
          },
          "metadata": {},
          "execution_count": 35
        }
      ]
    },
    {
      "cell_type": "code",
      "source": [
        "\ty_train = to_categorical(y_train)\n",
        "\ty_test = to_categorical(y_test)"
      ],
      "metadata": {
        "id": "-8goNHVAMRjc"
      },
      "execution_count": null,
      "outputs": []
    },
    {
      "cell_type": "code",
      "source": [
        "i = Input(shape=x_train[0].shape)\n",
        "x = Conv2D(32,(3,3),activation='relu')(i)\n",
        "x = MaxPooling2D((2, 2))(x)\n",
        "x = Flatten()(x)\n",
        "x = Dense(128, activation='relu')(x)\n",
        "x = Dense(K, activation='softmax')(x)\n",
        "model = Model(i, x)\n",
        "model.summary()"
      ],
      "metadata": {
        "colab": {
          "base_uri": "https://localhost:8080/"
        },
        "id": "a0j60yd9IR-g",
        "outputId": "85a3aa85-f439-40d0-8e03-44f9a57f1c1c"
      },
      "execution_count": null,
      "outputs": [
        {
          "output_type": "stream",
          "name": "stdout",
          "text": [
            "Model: \"model_3\"\n",
            "_________________________________________________________________\n",
            " Layer (type)                Output Shape              Param #   \n",
            "=================================================================\n",
            " input_4 (InputLayer)        [(None, 28, 28, 1)]       0         \n",
            "                                                                 \n",
            " conv2d_6 (Conv2D)           (None, 26, 26, 32)        320       \n",
            "                                                                 \n",
            " max_pooling2d_6 (MaxPooling  (None, 13, 13, 32)       0         \n",
            " 2D)                                                             \n",
            "                                                                 \n",
            " flatten_6 (Flatten)         (None, 5408)              0         \n",
            "                                                                 \n",
            " dense_12 (Dense)            (None, 128)               692352    \n",
            "                                                                 \n",
            " dense_13 (Dense)            (None, 10)                1290      \n",
            "                                                                 \n",
            "=================================================================\n",
            "Total params: 693,962\n",
            "Trainable params: 693,962\n",
            "Non-trainable params: 0\n",
            "_________________________________________________________________\n"
          ]
        }
      ]
    },
    {
      "cell_type": "code",
      "source": [
        "optim = SGD(learning_rate=0.01,momentum=0.9)"
      ],
      "metadata": {
        "id": "EuMry_77KgSW"
      },
      "execution_count": null,
      "outputs": []
    },
    {
      "cell_type": "code",
      "source": [
        "model.compile(optimizer=optim, loss='categorical_crossentropy', metrics=['accuracy'])"
      ],
      "metadata": {
        "id": "IkzHqmv-KsVE"
      },
      "execution_count": null,
      "outputs": []
    },
    {
      "cell_type": "code",
      "source": [
        "r = model.fit(\n",
        "  x_train, y_train, validation_data=(x_test, y_test), epochs=10)"
      ],
      "metadata": {
        "colab": {
          "base_uri": "https://localhost:8080/"
        },
        "id": "XmdMMe9eK2YX",
        "outputId": "d05d0e05-b9b0-4120-a5f1-78bed5dc54c5"
      },
      "execution_count": null,
      "outputs": [
        {
          "output_type": "stream",
          "name": "stdout",
          "text": [
            "Epoch 1/10\n",
            "1875/1875 [==============================] - 11s 6ms/step - loss: 0.2326 - accuracy: 0.9294 - val_loss: 0.0974 - val_accuracy: 0.9700\n",
            "Epoch 2/10\n",
            "1875/1875 [==============================] - 10s 6ms/step - loss: 0.0756 - accuracy: 0.9775 - val_loss: 0.0591 - val_accuracy: 0.9812\n",
            "Epoch 3/10\n",
            "1875/1875 [==============================] - 10s 5ms/step - loss: 0.0470 - accuracy: 0.9856 - val_loss: 0.0596 - val_accuracy: 0.9798\n",
            "Epoch 4/10\n",
            "1875/1875 [==============================] - 12s 6ms/step - loss: 0.0343 - accuracy: 0.9893 - val_loss: 0.0432 - val_accuracy: 0.9847\n",
            "Epoch 5/10\n",
            "1875/1875 [==============================] - 10s 5ms/step - loss: 0.0245 - accuracy: 0.9926 - val_loss: 0.0413 - val_accuracy: 0.9862\n",
            "Epoch 6/10\n",
            "1875/1875 [==============================] - 10s 5ms/step - loss: 0.0183 - accuracy: 0.9944 - val_loss: 0.0387 - val_accuracy: 0.9876\n",
            "Epoch 7/10\n",
            "1875/1875 [==============================] - 11s 6ms/step - loss: 0.0128 - accuracy: 0.9962 - val_loss: 0.0446 - val_accuracy: 0.9858\n",
            "Epoch 8/10\n",
            "1875/1875 [==============================] - 10s 5ms/step - loss: 0.0103 - accuracy: 0.9969 - val_loss: 0.0373 - val_accuracy: 0.9881\n",
            "Epoch 9/10\n",
            "1875/1875 [==============================] - 11s 6ms/step - loss: 0.0063 - accuracy: 0.9985 - val_loss: 0.0403 - val_accuracy: 0.9883\n",
            "Epoch 10/10\n",
            "1875/1875 [==============================] - 11s 6ms/step - loss: 0.0053 - accuracy: 0.9987 - val_loss: 0.0394 - val_accuracy: 0.9878\n"
          ]
        }
      ]
    },
    {
      "cell_type": "code",
      "source": [
        "plt.plot(r.history['accuracy'], label='acc', color='red')\n",
        "plt.plot(r.history['loss'],label=\"loss\",color=\"blue\")\n",
        "plt.legend()"
      ],
      "metadata": {
        "colab": {
          "base_uri": "https://localhost:8080/",
          "height": 282
        },
        "id": "JYdwCVo0N_e0",
        "outputId": "641c6334-fe43-4cbf-c3e4-b39f901751ae"
      },
      "execution_count": null,
      "outputs": [
        {
          "output_type": "execute_result",
          "data": {
            "text/plain": [
              "<matplotlib.legend.Legend at 0x7fa2e0a36410>"
            ]
          },
          "metadata": {},
          "execution_count": 41
        },
        {
          "output_type": "display_data",
          "data": {
            "image/png": "[encoded data removed]",
            "text/plain": [
              "<Figure size 432x288 with 1 Axes>"
            ]
          },
          "metadata": {
            "needs_background": "light"
          }
        }
      ]
    },
    {
      "cell_type": "code",
      "source": [
        "plt.plot(r.history['val_loss'],label=\"val_loss\",color=\"cyan\")\n",
        "plt.plot(r.history['val_accuracy'], label='val_acc', color='green')\n",
        "plt.show()"
      ],
      "metadata": {
        "colab": {
          "base_uri": "https://localhost:8080/",
          "height": 265
        },
        "id": "VHsSQwliOBXg",
        "outputId": "a3f6bea8-0f76-4db4-a971-09beacb2c0e0"
      },
      "execution_count": null,
      "outputs": [
        {
          "output_type": "display_data",
          "data": {
            "image/png": "[encoded data removed]",
            "text/plain": [
              "<Figure size 432x288 with 1 Axes>"
            ]
          },
          "metadata": {
            "needs_background": "light"
          }
        }
      ]
    },
    {
      "cell_type": "code",
      "source": [
        "y_test[10]"
      ],
      "metadata": {
        "colab": {
          "base_uri": "https://localhost:8080/"
        },
        "id": "-vr_kK6uP2xw",
        "outputId": "9997b0f0-8fef-4272-a16f-88a65dd69fae"
      },
      "execution_count": null,
      "outputs": [
        {
          "output_type": "execute_result",
          "data": {
            "text/plain": [
              "array([1., 0., 0., 0., 0., 0., 0., 0., 0., 0.], dtype=float32)"
            ]
          },
          "metadata": {},
          "execution_count": 50
        }
      ]
    },
    {
      "cell_type": "code",
      "source": [
        "labels = '''0 1 2 3 4 5 6 7 8 9'''.split()\n",
        " \n",
        "# select the image from our test dataset\n",
        "image_number = 666\n",
        " \n",
        "# display the image\n",
        "cv2_imshow(x_test[image_number])\n",
        " \n",
        "# load the image in an array\n",
        "n = np.array(x_test[image_number])\n",
        " \n",
        "# reshape it\n",
        "p = n.reshape(1,28, 28, 1)\n",
        " \n",
        "# pass in the network for prediction and\n",
        "# save the predicted label\n",
        "predicted_label = labels[model.predict(p).argmax()]\n",
        " \n",
        "# load the original label\n",
        "original_label = labels[y_test[image_number]]\n",
        " \n",
        "# display the result\n",
        "print(\"Original label is {} and predicted label is {}\".format(\n",
        "    original_label, predicted_label))"
      ],
      "metadata": {
        "colab": {
          "base_uri": "https://localhost:8080/",
          "height": 62
        },
        "id": "2CGa3uLJOGaA",
        "outputId": "195427b8-a4a3-4fd5-ca95-748cdb8f57b4"
      },
      "execution_count": null,
      "outputs": [
        {
          "output_type": "display_data",
          "data": {
            "image/png": "[encoded data removed]",
            "text/plain": [
              "<PIL.Image.Image image mode=L size=28x28 at 0x7FA2D7B753D0>"
            ]
          },
          "metadata": {}
        },
        {
          "output_type": "stream",
          "name": "stdout",
          "text": [
            "Original label is 7 and predicted label is 7\n"
          ]
        }
      ]
    }
  ]
}